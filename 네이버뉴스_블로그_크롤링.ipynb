{
 "cells": [
  {
   "cell_type": "code",
   "execution_count": null,
   "metadata": {},
   "outputs": [],
   "source": [
    "# \"09_gYDgp6s\"(비번) \"2YGIv_5JFqQrM14m2tbC\"(아이디)\n",
    "# 위성이꺼임"
   ]
  },
  {
   "cell_type": "code",
   "execution_count": null,
   "metadata": {},
   "outputs": [],
   "source": [
    "# 네이버 블로그 크롤링 코드"
   ]
  },
  {
   "cell_type": "code",
   "execution_count": 15,
   "metadata": {},
   "outputs": [],
   "source": [
    "import os\n",
    "import sys\n",
    "import urllib.request\n",
    "import csv\n",
    "\n",
    "client_id = \"2YGIv_5JFqQrM14m2tbC\"\n",
    "client_secret = \"09_gYDgp6s\"\n",
    "encText = urllib.parse.quote(\"항공 지연\")\n",
    "url_base = \"https://openapi.naver.com/v1/search/blog?query=\" + encText\n",
    "start = 1\n",
    "\n",
    "all_results = []\n",
    "\n",
    "for _ in range(10):\n",
    "    url = f\"{url_base}&start={start}&display=100\"\n",
    "    request = urllib.request.Request(url)\n",
    "    request.add_header(\"X-Naver-Client-Id\", client_id)\n",
    "    request.add_header(\"X-Naver-Client-Secret\", client_secret)\n",
    "    response = urllib.request.urlopen(request)\n",
    "    rescode = response.getcode()\n",
    "\n",
    "    if rescode == 200:\n",
    "        response_body = response.read()\n",
    "        result_json = response_body.decode('utf-8')\n",
    "        result_dict = json.loads(result_json)\n",
    "        all_results.extend(result_dict['items'])\n",
    "        start += 100\n",
    "    else:\n",
    "        print(\"Error Code:\" + rescode)\n",
    "        break\n",
    "\n",
    "# 결과를 CSV 파일로 저장\n",
    "with open('C:/Users/L/Desktop/크롤링결과.csv', 'w', newline='', encoding='utf-8') as csvfile:\n",
    "    fieldnames = ['title', 'link', 'description', 'bloggername', 'bloggerlink', 'postdate', 'pubDate', 'originallink']\n",
    "    writer = csv.DictWriter(csvfile, fieldnames=fieldnames)\n",
    "    \n",
    "    writer.writeheader()\n",
    "    for item in all_results:\n",
    "        writer.writerow(item)"
   ]
  },
  {
   "cell_type": "code",
   "execution_count": null,
   "metadata": {},
   "outputs": [],
   "source": [
    "# 네이버 뉴스 크롤링 코드"
   ]
  },
  {
   "cell_type": "code",
   "execution_count": 18,
   "metadata": {},
   "outputs": [],
   "source": [
    "import os\n",
    "import sys\n",
    "import urllib.request\n",
    "import csv\n",
    "\n",
    "client_id = \"2YGIv_5JFqQrM14m2tbC\"\n",
    "client_secret = \"09_gYDgp6s\"\n",
    "encText = urllib.parse.quote(\"항공 지연\")\n",
    "url_base = \"https://openapi.naver.com/v1/search/news?query=\" + encText\n",
    "start = 1\n",
    "\n",
    "all_results = []\n",
    "\n",
    "for _ in range(10):\n",
    "    url = f\"{url_base}&start={start}&display=100\"\n",
    "    request = urllib.request.Request(url)\n",
    "    request.add_header(\"X-Naver-Client-Id\", client_id)\n",
    "    request.add_header(\"X-Naver-Client-Secret\", client_secret)\n",
    "    response = urllib.request.urlopen(request)\n",
    "    rescode = response.getcode()\n",
    "\n",
    "    if rescode == 200:\n",
    "        response_body = response.read()\n",
    "        result_json = response_body.decode('utf-8')\n",
    "        result_dict = json.loads(result_json)\n",
    "        all_results.extend(result_dict['items'])\n",
    "        start += 100\n",
    "    else:\n",
    "        print(\"Error Code:\" + rescode)\n",
    "        break\n",
    "\n",
    "# 결과를 CSV 파일로 저장\n",
    "with open('C:/Users/L/Desktop/크롤링결과2.csv', 'w', newline='', encoding='utf-8') as csvfile:\n",
    "    fieldnames = ['title', 'link', 'description', 'bloggername', 'bloggerlink', 'postdate', 'pubDate', 'originallink']\n",
    "    writer = csv.DictWriter(csvfile, fieldnames=fieldnames)\n",
    "    \n",
    "    writer.writeheader()\n",
    "    for item in all_results:\n",
    "        writer.writerow(item)"
   ]
  },
  {
   "cell_type": "code",
   "execution_count": null,
   "metadata": {},
   "outputs": [],
   "source": [
    "#1000개의 데이터를 뽑아내는 코드"
   ]
  }
 ],
 "metadata": {
  "kernelspec": {
   "display_name": ".venv",
   "language": "python",
   "name": "python3"
  },
  "language_info": {
   "codemirror_mode": {
    "name": "ipython",
    "version": 3
   },
   "file_extension": ".py",
   "mimetype": "text/x-python",
   "name": "python",
   "nbconvert_exporter": "python",
   "pygments_lexer": "ipython3",
   "version": "3.10.11"
  }
 },
 "nbformat": 4,
 "nbformat_minor": 2
}
