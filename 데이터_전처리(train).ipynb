{
 "cells": [
  {
   "cell_type": "code",
   "execution_count": 1,
   "metadata": {},
   "outputs": [],
   "source": [
    "import pandas as pd"
   ]
  },
  {
   "cell_type": "code",
   "execution_count": 3,
   "metadata": {},
   "outputs": [],
   "source": [
    "train = pd.read_csv('C:/Users/L/DSBA/항공사/데이터 관련/train.csv')"
   ]
  },
  {
   "cell_type": "code",
   "execution_count": 4,
   "metadata": {},
   "outputs": [
    {
     "name": "stdout",
     "output_type": "stream",
     "text": [
      "<class 'pandas.core.frame.DataFrame'>\n",
      "RangeIndex: 959301 entries, 0 to 959300\n",
      "Data columns (total 20 columns):\n",
      " #   Column                    Non-Null Count   Dtype  \n",
      "---  ------                    --------------   -----  \n",
      " 0   Unnamed: 0                959301 non-null  int64  \n",
      " 1   ID                        959301 non-null  object \n",
      " 2   Month                     959301 non-null  int64  \n",
      " 3   Day_of_Month              959301 non-null  int64  \n",
      " 4   Estimated_Departure_Time  854693 non-null  float64\n",
      " 5   Estimated_Arrival_Time    854676 non-null  float64\n",
      " 6   Cancelled                 959301 non-null  int64  \n",
      " 7   Diverted                  959301 non-null  int64  \n",
      " 8   Origin_Airport            959301 non-null  object \n",
      " 9   Origin_Airport_ID         959301 non-null  int64  \n",
      " 10  Origin_State              959301 non-null  object \n",
      " 11  Destination_Airport       959301 non-null  object \n",
      " 12  Destination_Airport_ID    959301 non-null  int64  \n",
      " 13  Destination_State         959301 non-null  object \n",
      " 14  Distance                  959301 non-null  float64\n",
      " 15  Airline                   865052 non-null  object \n",
      " 16  Carrier_Code(IATA)        854687 non-null  object \n",
      " 17  Carrier_ID(DOT)           959301 non-null  float64\n",
      " 18  Tail_Number               959301 non-null  object \n",
      " 19  Delay                     244705 non-null  object \n",
      "dtypes: float64(4), int64(7), object(9)\n",
      "memory usage: 146.4+ MB\n"
     ]
    }
   ],
   "source": [
    "train.info()"
   ]
  },
  {
   "cell_type": "code",
   "execution_count": 5,
   "metadata": {},
   "outputs": [
    {
     "data": {
      "text/plain": [
       "array(['Southwest Airlines Co.', 'SkyWest Airlines Inc.',\n",
       "       'American Airlines Inc.', 'United Air Lines Inc.',\n",
       "       'Republic Airlines', nan, 'ExpressJet Airlines Inc.',\n",
       "       'Delta Air Lines Inc.', 'Air Wisconsin Airlines Corp',\n",
       "       'Horizon Air', 'JetBlue Airways', 'Spirit Air Lines',\n",
       "       'Alaska Airlines Inc.', 'Mesa Airlines Inc.',\n",
       "       'Frontier Airlines Inc.', 'Trans States Airlines',\n",
       "       'Endeavor Air Inc.', 'Comair Inc.', 'Capital Cargo International',\n",
       "       'Envoy Air', 'Hawaiian Airlines Inc.', 'Allegiant Air',\n",
       "       'Virgin America', 'Peninsula Airways Inc.', 'Compass Airlines',\n",
       "       'GoJet Airlines, LLC d/b/a United Express',\n",
       "       'Commutair Aka Champlain Enterprises, Inc.',\n",
       "       'Empire Airlines Inc.', 'Cape Air'], dtype=object)"
      ]
     },
     "execution_count": 5,
     "metadata": {},
     "output_type": "execute_result"
    }
   ],
   "source": [
    "train.Airline.unique()"
   ]
  },
  {
   "cell_type": "code",
   "execution_count": 6,
   "metadata": {},
   "outputs": [
    {
     "name": "stdout",
     "output_type": "stream",
     "text": [
      "Carrier_ID(DOT) 복구 가능한 데이터의 개수 : 97114\n"
     ]
    }
   ],
   "source": [
    "cond1 = train['Carrier_ID(DOT)'].isnull()\n",
    "cond2 = ~train['Airline'].isnull()\n",
    "print(\"Carrier_ID(DOT) 복구 가능한 데이터의 개수 :\", len(train.loc[cond1 & cond2, :]))"
   ]
  },
  {
   "cell_type": "code",
   "execution_count": 7,
   "metadata": {},
   "outputs": [],
   "source": [
    "# airline to carrier id, dictinary 만들기\n",
    "# 모두 데이터가 존재하는 열에서 Dict[Airline] = carrier_ID(DOT) 가 되도록 dictionary 생성\n",
    "airline_to_cid = {}\n",
    "for _, row in train[(~train['Carrier_ID(DOT)'].isnull() & ~train['Airline'].isnull())].iterrows():\n",
    "    airline_to_cid[row['Airline']] = row['Carrier_ID(DOT)']"
   ]
  },
  {
   "cell_type": "code",
   "execution_count": 8,
   "metadata": {},
   "outputs": [
    {
     "data": {
      "text/plain": [
       "{'Southwest Airlines Co.': 19393.0,\n",
       " 'SkyWest Airlines Inc.': 20304.0,\n",
       " 'American Airlines Inc.': 19805.0,\n",
       " 'Republic Airlines': 20452.0,\n",
       " 'ExpressJet Airlines Inc.': 20366.0,\n",
       " 'Delta Air Lines Inc.': 19790.0,\n",
       " 'Air Wisconsin Airlines Corp': 20046.0,\n",
       " 'Horizon Air': 19687.0,\n",
       " 'JetBlue Airways': 20409.0,\n",
       " 'Spirit Air Lines': 20416.0,\n",
       " 'Alaska Airlines Inc.': 19930.0,\n",
       " 'United Air Lines Inc.': 19977.0,\n",
       " 'Mesa Airlines Inc.': 20378.0,\n",
       " 'Frontier Airlines Inc.': 20436.0,\n",
       " 'Trans States Airlines': 20237.0,\n",
       " 'Comair Inc.': 20397.0,\n",
       " 'Endeavor Air Inc.': 20363.0,\n",
       " 'Capital Cargo International': 20427.0,\n",
       " 'Envoy Air': 20398.0,\n",
       " 'Hawaiian Airlines Inc.': 19690.0,\n",
       " 'Allegiant Air': 20368.0,\n",
       " 'Virgin America': 21171.0,\n",
       " 'Peninsula Airways Inc.': 20225.0,\n",
       " 'Compass Airlines': 21167.0,\n",
       " 'GoJet Airlines, LLC d/b/a United Express': 20500.0,\n",
       " 'Commutair Aka Champlain Enterprises, Inc.': 20445.0,\n",
       " 'Empire Airlines Inc.': 20263.0,\n",
       " 'Cape Air': 20253.0}"
      ]
     },
     "execution_count": 8,
     "metadata": {},
     "output_type": "execute_result"
    }
   ],
   "source": [
    "airline_to_cid"
   ]
  },
  {
   "cell_type": "code",
   "execution_count": 9,
   "metadata": {},
   "outputs": [],
   "source": [
    "# 복구하기\n",
    "def to_cid(x):\n",
    "    return airline_to_cid[x]\n",
    "\n",
    "cond1 = train['Carrier_ID(DOT)'].isnull()\n",
    "cond2 = ~train['Airline'].isnull()\n",
    "train.loc[cond1&cond2, 'Carrier_ID(DOT)'] = train.loc[cond1&cond2, 'Airline'].apply(lambda x: to_cid(x))"
   ]
  },
  {
   "cell_type": "code",
   "execution_count": 10,
   "metadata": {},
   "outputs": [],
   "source": [
    "# 복구 안 된 row 빼기\n",
    "train = train.dropna(subset=['Carrier_ID(DOT)'], how='any', axis=0)"
   ]
  },
  {
   "cell_type": "code",
   "execution_count": 11,
   "metadata": {},
   "outputs": [],
   "source": [
    "train.to_csv('C:/Users/L/Desktop/train.csv')"
   ]
  },
  {
   "cell_type": "code",
   "execution_count": null,
   "metadata": {},
   "outputs": [],
   "source": [
    "#여기까진 진행했음 이 밑으로 실행하면 됨"
   ]
  },
  {
   "cell_type": "code",
   "execution_count": 12,
   "metadata": {},
   "outputs": [],
   "source": [
    "train_copy = train.copy"
   ]
  },
  {
   "cell_type": "code",
   "execution_count": 13,
   "metadata": {},
   "outputs": [
    {
     "name": "stdout",
     "output_type": "stream",
     "text": [
      "<class 'pandas.core.frame.DataFrame'>\n",
      "Index: 988117 entries, 0 to 999999\n",
      "Data columns (total 19 columns):\n",
      " #   Column                    Non-Null Count   Dtype  \n",
      "---  ------                    --------------   -----  \n",
      " 0   ID                        988117 non-null  object \n",
      " 1   Month                     988117 non-null  int64  \n",
      " 2   Day_of_Month              988117 non-null  int64  \n",
      " 3   Estimated_Departure_Time  880391 non-null  float64\n",
      " 4   Estimated_Arrival_Time    880328 non-null  float64\n",
      " 5   Cancelled                 988117 non-null  int64  \n",
      " 6   Diverted                  988117 non-null  int64  \n",
      " 7   Origin_Airport            988117 non-null  object \n",
      " 8   Origin_Airport_ID         988117 non-null  int64  \n",
      " 9   Origin_State              880378 non-null  object \n",
      " 10  Destination_Airport       988117 non-null  object \n",
      " 11  Destination_Airport_ID    988117 non-null  int64  \n",
      " 12  Destination_State         880335 non-null  object \n",
      " 13  Distance                  988117 non-null  float64\n",
      " 14  Airline                   891080 non-null  object \n",
      " 15  Carrier_Code(IATA)        880400 non-null  object \n",
      " 16  Carrier_ID(DOT)           988117 non-null  float64\n",
      " 17  Tail_Number               988117 non-null  object \n",
      " 18  Delay                     252016 non-null  object \n",
      "dtypes: float64(4), int64(6), object(9)\n",
      "memory usage: 150.8+ MB\n"
     ]
    }
   ],
   "source": [
    "train.info()"
   ]
  },
  {
   "cell_type": "code",
   "execution_count": null,
   "metadata": {},
   "outputs": [],
   "source": [
    "#출발지"
   ]
  },
  {
   "cell_type": "code",
   "execution_count": 26,
   "metadata": {},
   "outputs": [],
   "source": [
    "missing_rows = train[train['Origin_Airport_ID'].isna() & train['Origin_State'].isna()]"
   ]
  },
  {
   "cell_type": "code",
   "execution_count": 27,
   "metadata": {},
   "outputs": [
    {
     "data": {
      "text/html": [
       "<div>\n",
       "<style scoped>\n",
       "    .dataframe tbody tr th:only-of-type {\n",
       "        vertical-align: middle;\n",
       "    }\n",
       "\n",
       "    .dataframe tbody tr th {\n",
       "        vertical-align: top;\n",
       "    }\n",
       "\n",
       "    .dataframe thead th {\n",
       "        text-align: right;\n",
       "    }\n",
       "</style>\n",
       "<table border=\"1\" class=\"dataframe\">\n",
       "  <thead>\n",
       "    <tr style=\"text-align: right;\">\n",
       "      <th></th>\n",
       "      <th>Unnamed: 0</th>\n",
       "      <th>ID</th>\n",
       "      <th>Month</th>\n",
       "      <th>Day_of_Month</th>\n",
       "      <th>Estimated_Departure_Time</th>\n",
       "      <th>Estimated_Arrival_Time</th>\n",
       "      <th>Cancelled</th>\n",
       "      <th>Diverted</th>\n",
       "      <th>Origin_Airport</th>\n",
       "      <th>Origin_Airport_ID</th>\n",
       "      <th>Origin_State</th>\n",
       "      <th>Destination_Airport</th>\n",
       "      <th>Destination_Airport_ID</th>\n",
       "      <th>Destination_State</th>\n",
       "      <th>Distance</th>\n",
       "      <th>Airline</th>\n",
       "      <th>Carrier_Code(IATA)</th>\n",
       "      <th>Carrier_ID(DOT)</th>\n",
       "      <th>Tail_Number</th>\n",
       "      <th>Delay</th>\n",
       "    </tr>\n",
       "  </thead>\n",
       "  <tbody>\n",
       "  </tbody>\n",
       "</table>\n",
       "</div>"
      ],
      "text/plain": [
       "Empty DataFrame\n",
       "Columns: [Unnamed: 0, ID, Month, Day_of_Month, Estimated_Departure_Time, Estimated_Arrival_Time, Cancelled, Diverted, Origin_Airport, Origin_Airport_ID, Origin_State, Destination_Airport, Destination_Airport_ID, Destination_State, Distance, Airline, Carrier_Code(IATA), Carrier_ID(DOT), Tail_Number, Delay]\n",
       "Index: []"
      ]
     },
     "execution_count": 27,
     "metadata": {},
     "output_type": "execute_result"
    }
   ],
   "source": [
    "missing_rows #둘 다 결측치 있는건 없음."
   ]
  },
  {
   "cell_type": "code",
   "execution_count": 17,
   "metadata": {},
   "outputs": [
    {
     "name": "stdout",
     "output_type": "stream",
     "text": [
      "                  ID  Month  Day_of_Month  Estimated_Departure_Time  \\\n",
      "0       TRAIN_000000      4            15                       NaN   \n",
      "1       TRAIN_000001      8            15                     740.0   \n",
      "2       TRAIN_000002      9             6                    1610.0   \n",
      "3       TRAIN_000003      7            10                     905.0   \n",
      "4       TRAIN_000004      1            11                     900.0   \n",
      "...              ...    ...           ...                       ...   \n",
      "999995  TRAIN_999995      9            18                     936.0   \n",
      "999996  TRAIN_999996      5            30                     920.0   \n",
      "999997  TRAIN_999997      6            28                     800.0   \n",
      "999998  TRAIN_999998      9            27                    1613.0   \n",
      "999999  TRAIN_999999      3            26                    1800.0   \n",
      "\n",
      "        Estimated_Arrival_Time  Cancelled  Diverted Origin_Airport  \\\n",
      "0                          NaN          0         0            OKC   \n",
      "1                       1024.0          0         0            ORD   \n",
      "2                       1805.0          0         0            CLT   \n",
      "3                       1735.0          0         0            LAX   \n",
      "4                       1019.0          0         0            SFO   \n",
      "...                        ...        ...       ...            ...   \n",
      "999995                  1243.0          0         0            ORD   \n",
      "999996                  1028.0          0         0            FAR   \n",
      "999997                  1340.0          0         0            OAK   \n",
      "999998                  1824.0          0         0            BNA   \n",
      "999999                  2056.0          0         0            RSW   \n",
      "\n",
      "        Origin_Airport_ID    Origin_State Destination_Airport  \\\n",
      "0                   13851        Oklahoma                 HOU   \n",
      "1                   13930        Illinois                 SLC   \n",
      "2                   11057  North Carolina                 LGA   \n",
      "3                   12892      California                 EWR   \n",
      "4                   14771      California                 ACV   \n",
      "...                   ...             ...                 ...   \n",
      "999995              13930        Illinois                 PHL   \n",
      "999996              11637    North Dakota                 MSP   \n",
      "999997              13796      California                 HOU   \n",
      "999998              10693       Tennessee                 ATL   \n",
      "999999              14635         Florida                 DTW   \n",
      "\n",
      "        Destination_Airport_ID Destination_State  Distance  \\\n",
      "0                        12191             Texas     419.0   \n",
      "1                        14869              Utah    1250.0   \n",
      "2                        12953          New York     544.0   \n",
      "3                        11618        New Jersey    2454.0   \n",
      "4                        10157        California     250.0   \n",
      "...                        ...               ...       ...   \n",
      "999995                   14100      Pennsylvania     678.0   \n",
      "999996                   13487         Minnesota     223.0   \n",
      "999997                   12191             Texas    1642.0   \n",
      "999998                   10397           Georgia     214.0   \n",
      "999999                   11433          Michigan    1084.0   \n",
      "\n",
      "                       Airline Carrier_Code(IATA)  Carrier_ID(DOT)  \\\n",
      "0       Southwest Airlines Co.                 WN          19393.0   \n",
      "1        SkyWest Airlines Inc.                 UA          20304.0   \n",
      "2       American Airlines Inc.                 AA          19805.0   \n",
      "3        United Air Lines Inc.                 UA          19977.0   \n",
      "4        SkyWest Airlines Inc.                 UA          20304.0   \n",
      "...                        ...                ...              ...   \n",
      "999995   United Air Lines Inc.                 UA          19977.0   \n",
      "999996   SkyWest Airlines Inc.                 DL          20304.0   \n",
      "999997  Southwest Airlines Co.                 WN          19393.0   \n",
      "999998    Delta Air Lines Inc.                 DL          19790.0   \n",
      "999999                     NaN                 DL          19790.0   \n",
      "\n",
      "       Tail_Number Delay  \n",
      "0           N7858A   NaN  \n",
      "1           N125SY   NaN  \n",
      "2           N103US   NaN  \n",
      "3           N595UA   NaN  \n",
      "4           N161SY   NaN  \n",
      "...            ...   ...  \n",
      "999995      N477UA   NaN  \n",
      "999996      N439SW   NaN  \n",
      "999997      N230WN   NaN  \n",
      "999998      N968DL   NaN  \n",
      "999999      N695DL   NaN  \n",
      "\n",
      "[988117 rows x 19 columns]\n"
     ]
    }
   ],
   "source": [
    "# 결측값이 있는 행 찾기\n",
    "missing_state_rows = train[train['Origin_State'].isna()]\n",
    "\n",
    "# 결측값을 채워넣기\n",
    "for index, row in missing_state_rows.iterrows():\n",
    "    Origin_airport_id = row['Origin_Airport_ID']\n",
    "    if not pd.isna(Origin_airport_id):\n",
    "        # Destination_Airport_ID에 대응하는 Origin_State 값 찾기\n",
    "        corresponding_state = train.loc[train['Origin_Airport_ID'] == Origin_airport_id, 'Origin_State'].iloc[0]\n",
    "        train.at[index, 'Origin_State'] = corresponding_state\n",
    "\n",
    "print(train)"
   ]
  },
  {
   "cell_type": "code",
   "execution_count": 18,
   "metadata": {},
   "outputs": [
    {
     "name": "stdout",
     "output_type": "stream",
     "text": [
      "<class 'pandas.core.frame.DataFrame'>\n",
      "Index: 988117 entries, 0 to 999999\n",
      "Data columns (total 19 columns):\n",
      " #   Column                    Non-Null Count   Dtype  \n",
      "---  ------                    --------------   -----  \n",
      " 0   ID                        988117 non-null  object \n",
      " 1   Month                     988117 non-null  int64  \n",
      " 2   Day_of_Month              988117 non-null  int64  \n",
      " 3   Estimated_Departure_Time  880391 non-null  float64\n",
      " 4   Estimated_Arrival_Time    880328 non-null  float64\n",
      " 5   Cancelled                 988117 non-null  int64  \n",
      " 6   Diverted                  988117 non-null  int64  \n",
      " 7   Origin_Airport            988117 non-null  object \n",
      " 8   Origin_Airport_ID         988117 non-null  int64  \n",
      " 9   Origin_State              971475 non-null  object \n",
      " 10  Destination_Airport       988117 non-null  object \n",
      " 11  Destination_Airport_ID    988117 non-null  int64  \n",
      " 12  Destination_State         975747 non-null  object \n",
      " 13  Distance                  988117 non-null  float64\n",
      " 14  Airline                   891080 non-null  object \n",
      " 15  Carrier_Code(IATA)        880400 non-null  object \n",
      " 16  Carrier_ID(DOT)           988117 non-null  float64\n",
      " 17  Tail_Number               988117 non-null  object \n",
      " 18  Delay                     252016 non-null  object \n",
      "dtypes: float64(4), int64(6), object(9)\n",
      "memory usage: 183.0+ MB\n"
     ]
    }
   ],
   "source": [
    "train.info()"
   ]
  },
  {
   "cell_type": "code",
   "execution_count": 28,
   "metadata": {},
   "outputs": [
    {
     "data": {
      "text/plain": [
       "16642"
      ]
     },
     "execution_count": 28,
     "metadata": {},
     "output_type": "execute_result"
    }
   ],
   "source": [
    "train.Origin_State.isna().sum()"
   ]
  },
  {
   "cell_type": "code",
   "execution_count": 29,
   "metadata": {},
   "outputs": [
    {
     "data": {
      "text/plain": [
       "12370"
      ]
     },
     "execution_count": 29,
     "metadata": {},
     "output_type": "execute_result"
    }
   ],
   "source": [
    "train.Destination_State.isna().sum()"
   ]
  },
  {
   "cell_type": "code",
   "execution_count": null,
   "metadata": {},
   "outputs": [],
   "source": [
    "#도착지"
   ]
  },
  {
   "cell_type": "code",
   "execution_count": 14,
   "metadata": {},
   "outputs": [
    {
     "data": {
      "text/html": [
       "<div>\n",
       "<style scoped>\n",
       "    .dataframe tbody tr th:only-of-type {\n",
       "        vertical-align: middle;\n",
       "    }\n",
       "\n",
       "    .dataframe tbody tr th {\n",
       "        vertical-align: top;\n",
       "    }\n",
       "\n",
       "    .dataframe thead th {\n",
       "        text-align: right;\n",
       "    }\n",
       "</style>\n",
       "<table border=\"1\" class=\"dataframe\">\n",
       "  <thead>\n",
       "    <tr style=\"text-align: right;\">\n",
       "      <th></th>\n",
       "      <th>ID</th>\n",
       "      <th>Month</th>\n",
       "      <th>Day_of_Month</th>\n",
       "      <th>Estimated_Departure_Time</th>\n",
       "      <th>Estimated_Arrival_Time</th>\n",
       "      <th>Cancelled</th>\n",
       "      <th>Diverted</th>\n",
       "      <th>Origin_Airport</th>\n",
       "      <th>Origin_Airport_ID</th>\n",
       "      <th>Origin_State</th>\n",
       "      <th>Destination_Airport</th>\n",
       "      <th>Destination_Airport_ID</th>\n",
       "      <th>Destination_State</th>\n",
       "      <th>Distance</th>\n",
       "      <th>Airline</th>\n",
       "      <th>Carrier_Code(IATA)</th>\n",
       "      <th>Carrier_ID(DOT)</th>\n",
       "      <th>Tail_Number</th>\n",
       "      <th>Delay</th>\n",
       "    </tr>\n",
       "  </thead>\n",
       "  <tbody>\n",
       "  </tbody>\n",
       "</table>\n",
       "</div>"
      ],
      "text/plain": [
       "Empty DataFrame\n",
       "Columns: [ID, Month, Day_of_Month, Estimated_Departure_Time, Estimated_Arrival_Time, Cancelled, Diverted, Origin_Airport, Origin_Airport_ID, Origin_State, Destination_Airport, Destination_Airport_ID, Destination_State, Distance, Airline, Carrier_Code(IATA), Carrier_ID(DOT), Tail_Number, Delay]\n",
       "Index: []"
      ]
     },
     "execution_count": 14,
     "metadata": {},
     "output_type": "execute_result"
    }
   ],
   "source": [
    "missing_rows2 = train[train['Destination_Airport_ID'].isna() & train['Destination_State'].isna()]\n",
    "missing_rows2\n",
    "#확인 완료"
   ]
  },
  {
   "cell_type": "code",
   "execution_count": 15,
   "metadata": {},
   "outputs": [
    {
     "name": "stdout",
     "output_type": "stream",
     "text": [
      "                  ID  Month  Day_of_Month  Estimated_Departure_Time  \\\n",
      "0       TRAIN_000000      4            15                       NaN   \n",
      "1       TRAIN_000001      8            15                     740.0   \n",
      "2       TRAIN_000002      9             6                    1610.0   \n",
      "3       TRAIN_000003      7            10                     905.0   \n",
      "4       TRAIN_000004      1            11                     900.0   \n",
      "...              ...    ...           ...                       ...   \n",
      "999995  TRAIN_999995      9            18                     936.0   \n",
      "999996  TRAIN_999996      5            30                     920.0   \n",
      "999997  TRAIN_999997      6            28                     800.0   \n",
      "999998  TRAIN_999998      9            27                    1613.0   \n",
      "999999  TRAIN_999999      3            26                    1800.0   \n",
      "\n",
      "        Estimated_Arrival_Time  Cancelled  Diverted Origin_Airport  \\\n",
      "0                          NaN          0         0            OKC   \n",
      "1                       1024.0          0         0            ORD   \n",
      "2                       1805.0          0         0            CLT   \n",
      "3                       1735.0          0         0            LAX   \n",
      "4                       1019.0          0         0            SFO   \n",
      "...                        ...        ...       ...            ...   \n",
      "999995                  1243.0          0         0            ORD   \n",
      "999996                  1028.0          0         0            FAR   \n",
      "999997                  1340.0          0         0            OAK   \n",
      "999998                  1824.0          0         0            BNA   \n",
      "999999                  2056.0          0         0            RSW   \n",
      "\n",
      "        Origin_Airport_ID    Origin_State Destination_Airport  \\\n",
      "0                   13851        Oklahoma                 HOU   \n",
      "1                   13930        Illinois                 SLC   \n",
      "2                   11057  North Carolina                 LGA   \n",
      "3                   12892      California                 EWR   \n",
      "4                   14771      California                 ACV   \n",
      "...                   ...             ...                 ...   \n",
      "999995              13930             NaN                 PHL   \n",
      "999996              11637             NaN                 MSP   \n",
      "999997              13796             NaN                 HOU   \n",
      "999998              10693       Tennessee                 ATL   \n",
      "999999              14635         Florida                 DTW   \n",
      "\n",
      "        Destination_Airport_ID Destination_State  Distance  \\\n",
      "0                        12191             Texas     419.0   \n",
      "1                        14869              Utah    1250.0   \n",
      "2                        12953          New York     544.0   \n",
      "3                        11618        New Jersey    2454.0   \n",
      "4                        10157        California     250.0   \n",
      "...                        ...               ...       ...   \n",
      "999995                   14100      Pennsylvania     678.0   \n",
      "999996                   13487         Minnesota     223.0   \n",
      "999997                   12191             Texas    1642.0   \n",
      "999998                   10397           Georgia     214.0   \n",
      "999999                   11433          Michigan    1084.0   \n",
      "\n",
      "                       Airline Carrier_Code(IATA)  Carrier_ID(DOT)  \\\n",
      "0       Southwest Airlines Co.                 WN          19393.0   \n",
      "1        SkyWest Airlines Inc.                 UA          20304.0   \n",
      "2       American Airlines Inc.                 AA          19805.0   \n",
      "3        United Air Lines Inc.                 UA          19977.0   \n",
      "4        SkyWest Airlines Inc.                 UA          20304.0   \n",
      "...                        ...                ...              ...   \n",
      "999995   United Air Lines Inc.                 UA          19977.0   \n",
      "999996   SkyWest Airlines Inc.                 DL          20304.0   \n",
      "999997  Southwest Airlines Co.                 WN          19393.0   \n",
      "999998    Delta Air Lines Inc.                 DL          19790.0   \n",
      "999999                     NaN                 DL          19790.0   \n",
      "\n",
      "       Tail_Number Delay  \n",
      "0           N7858A   NaN  \n",
      "1           N125SY   NaN  \n",
      "2           N103US   NaN  \n",
      "3           N595UA   NaN  \n",
      "4           N161SY   NaN  \n",
      "...            ...   ...  \n",
      "999995      N477UA   NaN  \n",
      "999996      N439SW   NaN  \n",
      "999997      N230WN   NaN  \n",
      "999998      N968DL   NaN  \n",
      "999999      N695DL   NaN  \n",
      "\n",
      "[988117 rows x 19 columns]\n"
     ]
    }
   ],
   "source": [
    "# 결측값이 있는 행 찾기\n",
    "missing_state_rows_D = train[train['Destination_State'].isna()]\n",
    "\n",
    "# 결측값을 채워넣기\n",
    "for index, row in missing_state_rows_D.iterrows():\n",
    "    destination_airport_id = row['Destination_Airport_ID']\n",
    "    if not pd.isna(destination_airport_id):\n",
    "        # Destination_Airport_ID에 대응하는 Origin_State 값 찾기\n",
    "        corresponding_state = train.loc[train['Destination_Airport_ID'] == destination_airport_id, 'Destination_State'].iloc[0]\n",
    "        train.at[index, 'Destination_State'] = corresponding_state\n",
    "\n",
    "print(train)"
   ]
  },
  {
   "cell_type": "code",
   "execution_count": 16,
   "metadata": {},
   "outputs": [
    {
     "data": {
      "text/plain": [
       "array(['Texas', 'Utah', 'New York', 'New Jersey', 'California',\n",
       "       'Virginia', 'Massachusetts', 'Missouri', 'North Carolina',\n",
       "       'Pennsylvania', 'Michigan', 'Colorado', 'Nevada', 'Florida', nan,\n",
       "       'Georgia', 'Alabama', 'Washington', 'Alaska', 'Kentucky', 'Oregon',\n",
       "       'Oklahoma', 'Rhode Island', 'Tennessee', 'Minnesota', 'Arizona',\n",
       "       'Indiana', 'Illinois', 'Ohio', 'Maryland', 'Hawaii', 'Connecticut',\n",
       "       'New Hampshire', 'West Virginia', 'Arkansas', 'North Dakota',\n",
       "       'New Mexico', 'South Carolina', 'Montana', 'Wisconsin', 'Maine',\n",
       "       'Nebraska', 'Mississippi', 'Puerto Rico', 'South Dakota',\n",
       "       'Louisiana', 'Wyoming', 'Idaho', 'Kansas', 'Iowa', 'Vermont',\n",
       "       'U.S. Pacific Trust Territories and Possessions',\n",
       "       'U.S. Virgin Islands'], dtype=object)"
      ]
     },
     "execution_count": 16,
     "metadata": {},
     "output_type": "execute_result"
    }
   ],
   "source": [
    "train.Destination_State.unique()"
   ]
  },
  {
   "cell_type": "code",
   "execution_count": 38,
   "metadata": {},
   "outputs": [
    {
     "name": "stdout",
     "output_type": "stream",
     "text": [
      "<class 'pandas.core.frame.DataFrame'>\n",
      "RangeIndex: 988117 entries, 0 to 988116\n",
      "Data columns (total 20 columns):\n",
      " #   Column                    Non-Null Count   Dtype  \n",
      "---  ------                    --------------   -----  \n",
      " 0   Unnamed: 0                988117 non-null  int64  \n",
      " 1   ID                        988117 non-null  object \n",
      " 2   Month                     988117 non-null  int64  \n",
      " 3   Day_of_Month              988117 non-null  int64  \n",
      " 4   Estimated_Departure_Time  880391 non-null  float64\n",
      " 5   Estimated_Arrival_Time    880328 non-null  float64\n",
      " 6   Cancelled                 988117 non-null  int64  \n",
      " 7   Diverted                  988117 non-null  int64  \n",
      " 8   Origin_Airport            988117 non-null  object \n",
      " 9   Origin_Airport_ID         988117 non-null  int64  \n",
      " 10  Origin_State              988117 non-null  object \n",
      " 11  Destination_Airport       988117 non-null  object \n",
      " 12  Destination_Airport_ID    988117 non-null  int64  \n",
      " 13  Destination_State         988117 non-null  object \n",
      " 14  Distance                  988117 non-null  float64\n",
      " 15  Airline                   891080 non-null  object \n",
      " 16  Carrier_Code(IATA)        880400 non-null  object \n",
      " 17  Carrier_ID(DOT)           988117 non-null  float64\n",
      " 18  Tail_Number               988117 non-null  object \n",
      " 19  Delay                     252016 non-null  object \n",
      "dtypes: float64(4), int64(7), object(9)\n",
      "memory usage: 150.8+ MB\n"
     ]
    }
   ],
   "source": [
    "train.info()"
   ]
  },
  {
   "cell_type": "code",
   "execution_count": 30,
   "metadata": {},
   "outputs": [],
   "source": [
    "# NaN 값이 있는 행 제거\n",
    "train = train.dropna(subset=['Destination_State'])\n",
    "train = train.dropna(subset=['Origin_State'])"
   ]
  },
  {
   "cell_type": "code",
   "execution_count": 31,
   "metadata": {},
   "outputs": [
    {
     "name": "stdout",
     "output_type": "stream",
     "text": [
      "<class 'pandas.core.frame.DataFrame'>\n",
      "Index: 959301 entries, 0 to 999999\n",
      "Data columns (total 19 columns):\n",
      " #   Column                    Non-Null Count   Dtype  \n",
      "---  ------                    --------------   -----  \n",
      " 0   ID                        959301 non-null  object \n",
      " 1   Month                     959301 non-null  int64  \n",
      " 2   Day_of_Month              959301 non-null  int64  \n",
      " 3   Estimated_Departure_Time  854693 non-null  float64\n",
      " 4   Estimated_Arrival_Time    854676 non-null  float64\n",
      " 5   Cancelled                 959301 non-null  int64  \n",
      " 6   Diverted                  959301 non-null  int64  \n",
      " 7   Origin_Airport            959301 non-null  object \n",
      " 8   Origin_Airport_ID         959301 non-null  int64  \n",
      " 9   Origin_State              959301 non-null  object \n",
      " 10  Destination_Airport       959301 non-null  object \n",
      " 11  Destination_Airport_ID    959301 non-null  int64  \n",
      " 12  Destination_State         959301 non-null  object \n",
      " 13  Distance                  959301 non-null  float64\n",
      " 14  Airline                   865052 non-null  object \n",
      " 15  Carrier_Code(IATA)        854687 non-null  object \n",
      " 16  Carrier_ID(DOT)           959301 non-null  float64\n",
      " 17  Tail_Number               959301 non-null  object \n",
      " 18  Delay                     244705 non-null  object \n",
      "dtypes: float64(4), int64(6), object(9)\n",
      "memory usage: 146.4+ MB\n"
     ]
    }
   ],
   "source": [
    "train.info()"
   ]
  },
  {
   "cell_type": "code",
   "execution_count": null,
   "metadata": {},
   "outputs": [],
   "source": [
    "#Estimated_~_time 평균값내서 넣어주기 (특정 출발지 ~ 도착치의 평균을 내서 넣어주기)"
   ]
  },
  {
   "cell_type": "code",
   "execution_count": 5,
   "metadata": {},
   "outputs": [],
   "source": [
    "train = train.dropna(subset=['Estimated_Arrival_Time', 'Estimated_Departure_Time'], how ='all', axis=0) #Arrival과 Departure 타임 열 둘 다 없는거 삭제해주기"
   ]
  },
  {
   "cell_type": "code",
   "execution_count": 6,
   "metadata": {},
   "outputs": [
    {
     "name": "stdout",
     "output_type": "stream",
     "text": [
      "<class 'pandas.core.frame.DataFrame'>\n",
      "Index: 948091 entries, 1 to 959300\n",
      "Data columns (total 20 columns):\n",
      " #   Column                    Non-Null Count   Dtype  \n",
      "---  ------                    --------------   -----  \n",
      " 0   Unnamed: 0                948091 non-null  int64  \n",
      " 1   ID                        948091 non-null  object \n",
      " 2   Month                     948091 non-null  int64  \n",
      " 3   Day_of_Month              948091 non-null  int64  \n",
      " 4   Estimated_Departure_Time  854693 non-null  float64\n",
      " 5   Estimated_Arrival_Time    854676 non-null  float64\n",
      " 6   Cancelled                 948091 non-null  int64  \n",
      " 7   Diverted                  948091 non-null  int64  \n",
      " 8   Origin_Airport            948091 non-null  object \n",
      " 9   Origin_Airport_ID         948091 non-null  int64  \n",
      " 10  Origin_State              948091 non-null  object \n",
      " 11  Destination_Airport       948091 non-null  object \n",
      " 12  Destination_Airport_ID    948091 non-null  int64  \n",
      " 13  Destination_State         948091 non-null  object \n",
      " 14  Distance                  948091 non-null  float64\n",
      " 15  Airline                   854947 non-null  object \n",
      " 16  Carrier_Code(IATA)        844690 non-null  object \n",
      " 17  Carrier_ID(DOT)           948091 non-null  float64\n",
      " 18  Tail_Number               948091 non-null  object \n",
      " 19  Delay                     241797 non-null  object \n",
      "dtypes: float64(4), int64(7), object(9)\n",
      "memory usage: 151.9+ MB\n"
     ]
    }
   ],
   "source": [
    "train.info() #10000개 정도 없어진 걸 확인"
   ]
  },
  {
   "cell_type": "code",
   "execution_count": 8,
   "metadata": {},
   "outputs": [],
   "source": [
    "def to_minutes(x):\n",
    "    x = int(x)\n",
    "    x = str(x)\n",
    "    if len(x) > 2:\n",
    "        hours, mins = int(x[:-2]), int(x[-2:])\n",
    "    else:\n",
    "        hours, mins = 0, int(x[-2:])\n",
    "    return hours*60+mins\n",
    "\n",
    "estimated_times = ['Estimated_Departure_Time', 'Estimated_Arrival_Time']\n",
    "\n",
    "for ET in estimated_times:\n",
    "    cond = ~train[ET].isnull()\n",
    "    train.loc[cond, ET] = train.loc[cond, ET].apply(lambda x: to_minutes(x))\n",
    "    \n",
    "# 정리하자면, 특정 공항에서 특정 공항까지의 시간을 모두 뽑아낸 후에, 그 시간의 평균을 내준 다음 공항"
   ]
  },
  {
   "cell_type": "code",
   "execution_count": 9,
   "metadata": {},
   "outputs": [],
   "source": [
    "#(OAID, DAID)를 키로 갖고, 평균 비행시간을 값으로 갖는 dictionary 만들기\n",
    "from collections import defaultdict\n",
    "time_flying = defaultdict(int)\n",
    "time_number = defaultdict(int)\n",
    "\n",
    "cond_arr2 = ~train['Estimated_Arrival_Time'].isnull()\n",
    "cond_dep2 = ~train['Estimated_Departure_Time'].isnull()\n",
    "\n",
    "for _, row in train.loc[cond_arr2 & cond_dep2, :].iterrows():\n",
    "    OAID, DAID = row['Origin_Airport_ID'], row['Destination_Airport_ID']\n",
    "    time_flying[(OAID,DAID)] += (row['Estimated_Arrival_Time'] - row['Estimated_Departure_Time'])%1440 # 하루 최대는 1440분\n",
    "    time_number[(OAID,DAID)] += 1\n",
    "    \n",
    "    \n",
    "for key in time_flying.keys():\n",
    "    time_flying[key] /= time_number[key]"
   ]
  },
  {
   "cell_type": "code",
   "execution_count": 10,
   "metadata": {},
   "outputs": [],
   "source": [
    "for index, row in train.loc[train['Estimated_Departure_Time'].isnull(),].iterrows():\n",
    "    OAID, DAID = row['Origin_Airport_ID'], row['Destination_Airport_ID']\n",
    "    train.loc[index,'Estimated_Departure_Time'] = \\\n",
    "        (train.loc[index]['Estimated_Arrival_Time'] - time_flying[(OAID, DAID)])%1440\n",
    "    \n",
    "for index, row in train.loc[train['Estimated_Arrival_Time'].isnull(),].iterrows():\n",
    "    OAID, DAID = row['Origin_Airport_ID'], row['Destination_Airport_ID']\n",
    "    train.loc[index,'Estimated_Arrival_Time'] = \\\n",
    "        (train.loc[index]['Estimated_Departure_Time'] + time_flying[(OAID, DAID)])%1440"
   ]
  },
  {
   "cell_type": "code",
   "execution_count": 11,
   "metadata": {},
   "outputs": [
    {
     "name": "stdout",
     "output_type": "stream",
     "text": [
      "<class 'pandas.core.frame.DataFrame'>\n",
      "Index: 948091 entries, 1 to 959300\n",
      "Data columns (total 20 columns):\n",
      " #   Column                    Non-Null Count   Dtype  \n",
      "---  ------                    --------------   -----  \n",
      " 0   Unnamed: 0                948091 non-null  int64  \n",
      " 1   ID                        948091 non-null  object \n",
      " 2   Month                     948091 non-null  int64  \n",
      " 3   Day_of_Month              948091 non-null  int64  \n",
      " 4   Estimated_Departure_Time  948091 non-null  float64\n",
      " 5   Estimated_Arrival_Time    948091 non-null  float64\n",
      " 6   Cancelled                 948091 non-null  int64  \n",
      " 7   Diverted                  948091 non-null  int64  \n",
      " 8   Origin_Airport            948091 non-null  object \n",
      " 9   Origin_Airport_ID         948091 non-null  int64  \n",
      " 10  Origin_State              948091 non-null  object \n",
      " 11  Destination_Airport       948091 non-null  object \n",
      " 12  Destination_Airport_ID    948091 non-null  int64  \n",
      " 13  Destination_State         948091 non-null  object \n",
      " 14  Distance                  948091 non-null  float64\n",
      " 15  Airline                   854947 non-null  object \n",
      " 16  Carrier_Code(IATA)        844690 non-null  object \n",
      " 17  Carrier_ID(DOT)           948091 non-null  float64\n",
      " 18  Tail_Number               948091 non-null  object \n",
      " 19  Delay                     241797 non-null  object \n",
      "dtypes: float64(4), int64(7), object(9)\n",
      "memory usage: 184.2+ MB\n"
     ]
    }
   ],
   "source": [
    "train.info()"
   ]
  },
  {
   "cell_type": "code",
   "execution_count": 13,
   "metadata": {},
   "outputs": [
    {
     "name": "stdout",
     "output_type": "stream",
     "text": [
      "{}\n"
     ]
    }
   ],
   "source": [
    "# Airline과 Carrier_Code(IATA)의 빈도수 확인\n",
    "airline_counts = train['Airline'].value_counts()\n",
    "carrier_counts = train['Origin_Airport_ID'].value_counts()\n",
    "\n",
    "# 1:1 매핑인 항목만 필터링\n",
    "unique_airlines = airline_counts[airline_counts == 1].index\n",
    "unique_carriers = carrier_counts[carrier_counts == 1].index\n",
    "\n",
    "# 필터링된 데이터프레임 생성\n",
    "filtered_train = train[train['Airline'].isin(unique_airlines) & train['Origin_Airport_ID'].isin(unique_carriers)]\n",
    "\n",
    "# 딕셔너리 생성\n",
    "airline_carrier_dict = pd.Series(filtered_train['Origin_Airport_ID'].values, index=filtered_train['Airline']).to_dict()\n",
    "\n",
    "print(airline_carrier_dict)\n",
    "\n"
   ]
  },
  {
   "cell_type": "code",
   "execution_count": 14,
   "metadata": {},
   "outputs": [
    {
     "name": "stdout",
     "output_type": "stream",
     "text": [
      "{}\n"
     ]
    }
   ],
   "source": [
    "# Airline과 Carrier_Code(IATA)의 빈도수 확인\n",
    "airline_counts = train['Airline'].value_counts()\n",
    "carrier_counts = train['Carrier_Code(IATA)'].value_counts()\n",
    "\n",
    "# 1:1 매핑인 항목만 필터링\n",
    "unique_airlines = airline_counts[airline_counts == 1].index\n",
    "unique_carriers = carrier_counts[carrier_counts == 1].index\n",
    "\n",
    "# 필터링된 데이터프레임 생성\n",
    "filtered_train = train[train['Airline'].isin(unique_airlines) & train['Carrier_Code(IATA)'].isin(unique_carriers)]\n",
    "\n",
    "# 딕셔너리 생성\n",
    "airline_carrier_dict = pd.Series(filtered_train['Carrier_Code(IATA)'].values, index=filtered_train['Airline']).to_dict()\n",
    "\n",
    "print(airline_carrier_dict)\n",
    "\n"
   ]
  },
  {
   "cell_type": "code",
   "execution_count": null,
   "metadata": {},
   "outputs": [],
   "source": [
    "#Airline의 결측치는 1:1으로 대응하는 값이 없기 때문에 매칭해서 넣을 수 없음. (다른 항공사가 같은 Airline을 쓰는 경우가 있기 때문에 분리하지 못함)\n",
    "# 즉, Airline의 결측치는 모두 NaN이 든 열을 제거해야 한다."
   ]
  },
  {
   "cell_type": "code",
   "execution_count": 15,
   "metadata": {},
   "outputs": [],
   "source": [
    "train = train.dropna(subset=['Airline'])"
   ]
  },
  {
   "cell_type": "code",
   "execution_count": 17,
   "metadata": {},
   "outputs": [
    {
     "name": "stdout",
     "output_type": "stream",
     "text": [
      "<class 'pandas.core.frame.DataFrame'>\n",
      "Index: 854947 entries, 1 to 959299\n",
      "Data columns (total 20 columns):\n",
      " #   Column                    Non-Null Count   Dtype  \n",
      "---  ------                    --------------   -----  \n",
      " 0   Unnamed: 0                854947 non-null  int64  \n",
      " 1   ID                        854947 non-null  object \n",
      " 2   Month                     854947 non-null  int64  \n",
      " 3   Day_of_Month              854947 non-null  int64  \n",
      " 4   Estimated_Departure_Time  854947 non-null  float64\n",
      " 5   Estimated_Arrival_Time    854947 non-null  float64\n",
      " 6   Cancelled                 854947 non-null  int64  \n",
      " 7   Diverted                  854947 non-null  int64  \n",
      " 8   Origin_Airport            854947 non-null  object \n",
      " 9   Origin_Airport_ID         854947 non-null  int64  \n",
      " 10  Origin_State              854947 non-null  object \n",
      " 11  Destination_Airport       854947 non-null  object \n",
      " 12  Destination_Airport_ID    854947 non-null  int64  \n",
      " 13  Destination_State         854947 non-null  object \n",
      " 14  Distance                  854947 non-null  float64\n",
      " 15  Airline                   854947 non-null  object \n",
      " 16  Carrier_Code(IATA)        761721 non-null  object \n",
      " 17  Carrier_ID(DOT)           854947 non-null  float64\n",
      " 18  Tail_Number               854947 non-null  object \n",
      " 19  Delay                     218250 non-null  object \n",
      "dtypes: float64(4), int64(7), object(9)\n",
      "memory usage: 137.0+ MB\n"
     ]
    }
   ],
   "source": [
    "train.info()"
   ]
  },
  {
   "cell_type": "code",
   "execution_count": 22,
   "metadata": {},
   "outputs": [],
   "source": [
    "columns_to_drop = ['Carrier_Code(IATA)', 'Carrier_ID(DOT)', 'Tail_Number','Unnamed: 0']\n",
    "train_dropped = train.drop(columns=columns_to_drop)"
   ]
  },
  {
   "cell_type": "code",
   "execution_count": 23,
   "metadata": {},
   "outputs": [
    {
     "name": "stdout",
     "output_type": "stream",
     "text": [
      "<class 'pandas.core.frame.DataFrame'>\n",
      "Index: 854947 entries, 1 to 959299\n",
      "Data columns (total 16 columns):\n",
      " #   Column                    Non-Null Count   Dtype  \n",
      "---  ------                    --------------   -----  \n",
      " 0   ID                        854947 non-null  object \n",
      " 1   Month                     854947 non-null  int64  \n",
      " 2   Day_of_Month              854947 non-null  int64  \n",
      " 3   Estimated_Departure_Time  854947 non-null  float64\n",
      " 4   Estimated_Arrival_Time    854947 non-null  float64\n",
      " 5   Cancelled                 854947 non-null  int64  \n",
      " 6   Diverted                  854947 non-null  int64  \n",
      " 7   Origin_Airport            854947 non-null  object \n",
      " 8   Origin_Airport_ID         854947 non-null  int64  \n",
      " 9   Origin_State              854947 non-null  object \n",
      " 10  Destination_Airport       854947 non-null  object \n",
      " 11  Destination_Airport_ID    854947 non-null  int64  \n",
      " 12  Destination_State         854947 non-null  object \n",
      " 13  Distance                  854947 non-null  float64\n",
      " 14  Airline                   854947 non-null  object \n",
      " 15  Delay                     218250 non-null  object \n",
      "dtypes: float64(3), int64(6), object(7)\n",
      "memory usage: 110.9+ MB\n"
     ]
    }
   ],
   "source": [
    "train_dropped.info()"
   ]
  },
  {
   "cell_type": "code",
   "execution_count": 26,
   "metadata": {},
   "outputs": [],
   "source": [
    "train_dropped = train_dropped.rename(columns={'ID': '샘플고유ID'})\n",
    "train_dropped = train_dropped.rename(columns={'Month': '월'})\n",
    "train_dropped = train_dropped.rename(columns={'Day_of_Month': '일'})\n",
    "train_dropped = train_dropped.rename(columns={'Estimated_Departure_Time': '출발예측시간'})\n",
    "train_dropped = train_dropped.rename(columns={'Estimated_Arrival_Time': '도착예측시간'})\n",
    "train_dropped = train_dropped.rename(columns={'Cancelled': '결항여부'})\n",
    "train_dropped = train_dropped.rename(columns={'Diverted': '경유여부'})\n",
    "train_dropped = train_dropped.rename(columns={'Origin_Airport': '출발공항고유코드'})\n",
    "train_dropped = train_dropped.rename(columns={'Origin_Airport_ID': '출발공항고유ID'})\n",
    "train_dropped = train_dropped.rename(columns={'Origin_State': '출발공항_주'})\n",
    "train_dropped = train_dropped.rename(columns={'Destination_Airport': '도착공항고유코드'})\n",
    "train_dropped = train_dropped.rename(columns={'Destination_Airport_ID': '도착공항고유ID'})\n",
    "train_dropped = train_dropped.rename(columns={'Destination_State': '도착공항_주'})\n",
    "train_dropped = train_dropped.rename(columns={'Distance': '이동거리'})\n",
    "train_dropped = train_dropped.rename(columns={'Airline': '항공사'})\n",
    "train_dropped = train_dropped.rename(columns={'Delay': '항공편지연여부'})"
   ]
  },
  {
   "cell_type": "code",
   "execution_count": 27,
   "metadata": {},
   "outputs": [
    {
     "name": "stdout",
     "output_type": "stream",
     "text": [
      "<class 'pandas.core.frame.DataFrame'>\n",
      "Index: 854947 entries, 1 to 959299\n",
      "Data columns (total 16 columns):\n",
      " #   Column    Non-Null Count   Dtype  \n",
      "---  ------    --------------   -----  \n",
      " 0   샘플고유ID    854947 non-null  object \n",
      " 1   월         854947 non-null  int64  \n",
      " 2   일         854947 non-null  int64  \n",
      " 3   출발예측시간    854947 non-null  float64\n",
      " 4   도착예측시간    854947 non-null  float64\n",
      " 5   결항여부      854947 non-null  int64  \n",
      " 6   경유여부      854947 non-null  int64  \n",
      " 7   출발공항고유코드  854947 non-null  object \n",
      " 8   출발공항고유ID  854947 non-null  int64  \n",
      " 9   출발공항_주    854947 non-null  object \n",
      " 10  도착공항고유코드  854947 non-null  object \n",
      " 11  초닥공항고유ID  854947 non-null  int64  \n",
      " 12  도착공항_주    854947 non-null  object \n",
      " 13  이동거리      854947 non-null  float64\n",
      " 14  항공사       854947 non-null  object \n",
      " 15  항공편지연여부   218250 non-null  object \n",
      "dtypes: float64(3), int64(6), object(7)\n",
      "memory usage: 110.9+ MB\n"
     ]
    }
   ],
   "source": [
    "train_dropped.info()"
   ]
  },
  {
   "cell_type": "code",
   "execution_count": 1,
   "metadata": {},
   "outputs": [
    {
     "ename": "NameError",
     "evalue": "name 'train_dropped' is not defined",
     "output_type": "error",
     "traceback": [
      "\u001b[1;31m---------------------------------------------------------------------------\u001b[0m",
      "\u001b[1;31mNameError\u001b[0m                                 Traceback (most recent call last)",
      "Cell \u001b[1;32mIn[1], line 1\u001b[0m\n\u001b[1;32m----> 1\u001b[0m \u001b[43mtrain_dropped\u001b[49m\u001b[38;5;241m.\u001b[39mto_csv(\u001b[38;5;124m'\u001b[39m\u001b[38;5;124mC:/Users/L/Desktop/train (전처리 완료).csv\u001b[39m\u001b[38;5;124m'\u001b[39m)\n",
      "\u001b[1;31mNameError\u001b[0m: name 'train_dropped' is not defined"
     ]
    }
   ],
   "source": [
    "train_dropped.to_csv('C:/Users/L/Desktop/train (전처리 완료).csv')"
   ]
  },
  {
   "cell_type": "code",
   "execution_count": null,
   "metadata": {},
   "outputs": [],
   "source": []
  }
 ],
 "metadata": {
  "kernelspec": {
   "display_name": ".venv",
   "language": "python",
   "name": "python3"
  },
  "language_info": {
   "codemirror_mode": {
    "name": "ipython",
    "version": 3
   },
   "file_extension": ".py",
   "mimetype": "text/x-python",
   "name": "python",
   "nbconvert_exporter": "python",
   "pygments_lexer": "ipython3",
   "version": "3.10.11"
  }
 },
 "nbformat": 4,
 "nbformat_minor": 2
}
